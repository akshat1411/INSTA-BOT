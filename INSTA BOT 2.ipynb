{
 "cells": [
  {
   "cell_type": "markdown",
   "metadata": {},
   "source": [
    "# Logging in Through my Credentials"
   ]
  },
  {
   "cell_type": "code",
   "execution_count": 247,
   "metadata": {},
   "outputs": [],
   "source": [
    "from selenium import webdriver\n",
    "from selenium.webdriver.common.keys import Keys\n",
    "import time\n",
    "from selenium.common.exceptions import NoSuchElementException\n",
    "from selenium.common.exceptions import StaleElementReferenceException\n",
    "from selenium.common.exceptions import TimeoutException\n",
    "from selenium.webdriver.support.ui import WebDriverWait\n",
    "from selenium.webdriver.support import expected_conditions as EC\n",
    "from selenium.webdriver.common.by import By\n",
    "from selenium.webdriver.support.select import Select\n",
    "driver = webdriver.Chrome(executable_path = 'C:\\\\Users\\\\Ajay Singhal\\\\Desktop\\\\chromedriver')\n",
    "def login(usnm,pswd):\n",
    "    driver.get('https://www.instagram.com/')\n",
    "    driver.implicitly_wait(10)\n",
    "    driver.maximize_window()\n",
    "    username = driver.find_element_by_name('username')\n",
    "    password = driver.find_element_by_name('password')\n",
    "    username.send_keys(usnm)\n",
    "    password.send_keys(pswd)\n",
    "login('SAMPLE USERNAME','SAMPLE PASSWORD')    \n",
    "btn = driver.find_element_by_tag_name('button')\n",
    "btn.submit()\n",
    "time.sleep(5)"
   ]
  },
  {
   "cell_type": "markdown",
   "metadata": {},
   "source": [
    "# Defining a search function to search any keyword"
   ]
  },
  {
   "cell_type": "code",
   "execution_count": 248,
   "metadata": {},
   "outputs": [],
   "source": [
    "def search(tag):\n",
    "    inptbox = driver.find_element_by_tag_name('input')\n",
    "    inptbox.send_keys(tag)\n",
    "    time.sleep(5)\n",
    "search('food')  "
   ]
  },
  {
   "cell_type": "markdown",
   "metadata": {},
   "source": [
    "# Defining a function to get links of required number of accounts"
   ]
  },
  {
   "cell_type": "code",
   "execution_count": 249,
   "metadata": {
    "scrolled": true
   },
   "outputs": [],
   "source": [
    "def get_links(count):\n",
    "    links = []\n",
    "    i = 0\n",
    "    for link in driver.find_elements_by_xpath('//div[@class = \"fuqBx \"]/div/a'):\n",
    "        if i < count:\n",
    "            if \"tags\" in str(link.get_attribute('href')):\n",
    "                i = i\n",
    "            else:\n",
    "                links.append((link.get_attribute('href')))\n",
    "                i = i+1\n",
    "    return links\n",
    "all_links = get_links(10)            "
   ]
  },
  {
   "cell_type": "markdown",
   "metadata": {},
   "source": [
    "# Defining a function to get followers of each account\n"
   ]
  },
  {
   "cell_type": "code",
   "execution_count": 250,
   "metadata": {},
   "outputs": [],
   "source": [
    "def follower_count(links):\n",
    "    pg_flw_count = {}\n",
    "    flw = 0\n",
    "    pg = \"\"\n",
    "    for i in links:\n",
    "        driver.get(i)\n",
    "        time.sleep(2)\n",
    "        pg = driver.find_element_by_xpath('//div[@class = \"nZSzR\"]//h2').text\n",
    "        flw = (driver.find_element_by_xpath('//ul[@class = \"k9GMp \"]/li[2]//span').get_attribute('title'))\n",
    "        pg_flw_count[pg] = flw\n",
    "    return pg_flw_count"
   ]
  },
  {
   "cell_type": "markdown",
   "metadata": {},
   "source": [
    "# Finding Top5 Accounts on the basis of Followers"
   ]
  },
  {
   "cell_type": "code",
   "execution_count": 251,
   "metadata": {},
   "outputs": [],
   "source": [
    "fllow_count = follower_count(all_links)\n",
    "fllow_count_int = {}"
   ]
  },
  {
   "cell_type": "code",
   "execution_count": 252,
   "metadata": {},
   "outputs": [],
   "source": [
    "for key,value in fllow_count.items():\n",
    "    value = value.replace(\",\",'') \n",
    "    fllow_count_int[key] = float(value)"
   ]
  },
  {
   "cell_type": "code",
   "execution_count": 253,
   "metadata": {},
   "outputs": [],
   "source": [
    "import operator\n",
    "fllow_count_int = dict(sorted(fllow_count_int.items(),key=operator.itemgetter(1),reverse = True))"
   ]
  },
  {
   "cell_type": "code",
   "execution_count": 254,
   "metadata": {},
   "outputs": [],
   "source": [
    "count = 0\n",
    "def get_top_x(x,dict_given):\n",
    "    answer = {}\n",
    "    i = 0\n",
    "    for key,value in dict_given.items():\n",
    "        if i < x:\n",
    "            answer[key] = value\n",
    "            i = i+1\n",
    "        else:\n",
    "            break  \n",
    "    return answer        "
   ]
  },
  {
   "cell_type": "code",
   "execution_count": 255,
   "metadata": {},
   "outputs": [],
   "source": [
    "fllow_count_int = dict(fllow_count_int)\n",
    "fllow_count_int = get_top_x(5,fllow_count_int)"
   ]
  },
  {
   "cell_type": "code",
   "execution_count": 256,
   "metadata": {},
   "outputs": [
    {
     "data": {
      "text/plain": [
       "{'foodys': 8759930.0,\n",
       " 'yourfoodlab': 1622015.0,\n",
       " 'food': 115558.0,\n",
       " 'food.darzee': 103490.0,\n",
       " 'sailusfood': 66251.0}"
      ]
     },
     "execution_count": 256,
     "metadata": {},
     "output_type": "execute_result"
    }
   ],
   "source": [
    "fllow_count_int"
   ]
  },
  {
   "cell_type": "markdown",
   "metadata": {},
   "source": [
    "# Finding number of posts made by Top5 Accounts in last 3 days"
   ]
  },
  {
   "cell_type": "code",
   "execution_count": 258,
   "metadata": {
    "scrolled": true
   },
   "outputs": [
    {
     "name": "stdout",
     "output_type": "stream",
     "text": [
      "foodys have done 9 posts in past 3 days\n",
      "yourfoodlab have done 3 posts in past 3 days\n",
      "food have done 6 posts in past 3 days\n",
      "food.darzee have done 10 posts in past 3 days\n",
      "sailusfood have done 0 posts in past 3 days\n"
     ]
    }
   ],
   "source": [
    "no_of_posts = {}\n",
    "for key,value in fllow_count_int.items():\n",
    "    time.sleep(3)\n",
    "    print(key, end=' ')\n",
    "    driver.find_element_by_xpath('//span[contains(@class, \"TqC_a\")]').click()\n",
    "    time.sleep(3)\n",
    "    driver.find_element_by_xpath('//input[contains(@class, \"XTCLo\")]').send_keys(key)\n",
    "    time.sleep(3)\n",
    "    driver.find_element_by_xpath('//a[@class=\"-qQT3\"]').click()\n",
    "    WebDriverWait(driver, 10).until(EC.presence_of_element_located((By.XPATH, '//div[@class=\"_9AhH0\"]')))\n",
    "    time.sleep(1)\n",
    "    count=0\n",
    "    first_img = driver.find_element_by_xpath('//div[contains(@class,\"_9AhH0\")]')\n",
    "    first_img.click()\n",
    "    time.sleep(3)\n",
    "    while True:\n",
    "        time.sleep(5)\n",
    "        time_string=driver.find_element_by_xpath('//time[contains(@class,\"Nzb55\")]').get_attribute('innerHTML')\n",
    "        if time_string[-1] in ['h','s','m']:\n",
    "            count+=1\n",
    "        elif time_string[-1]=='d' and int(time_string[:-1])<=3:\n",
    "            count+=1\n",
    "        else:\n",
    "            driver.back()\n",
    "            break\n",
    "        next_img = driver.find_element_by_xpath('//a[contains(@class,\"coreSpriteRightPaginationArrow\")]')\n",
    "        next_img.click()\n",
    "        time.sleep(1)\n",
    "    driver.back()    \n",
    "    print(\"have done\", count, \"posts in past 3 days\")\n",
    "    no_of_posts[key] = count \n",
    "            "
   ]
  },
  {
   "cell_type": "markdown",
   "metadata": {},
   "source": [
    "# Printing the required graphs"
   ]
  },
  {
   "cell_type": "code",
   "execution_count": 259,
   "metadata": {
    "scrolled": false
   },
   "outputs": [
    {
     "data": {
      "image/png": "[encoded data removed]",
      "text/plain": [
       "<Figure size 432x288 with 1 Axes>"
      ]
     },
     "metadata": {
      "needs_background": "light"
     },
     "output_type": "display_data"
    }
   ],
   "source": [
    "account = []\n",
    "follower_count = []\n",
    "for key,value in fllow_count_int.items():\n",
    "    account.append(key)\n",
    "    follower_count.append(value)\n",
    "import matplotlib.pyplot as plt\n",
    "plt.bar(account,follower_count,color=\"rbycg\")\n",
    "plt.xticks(rotation=45,size=12)\n",
    "plt.yticks(size=12)\n",
    "plt.xlabel(\"Account\",size = 15)\n",
    "plt.ylabel(\"Followers\",size = 15)\n",
    "plt.grid()\n",
    "plt.title('Followers of top5 Accounts')\n",
    "plt.show()"
   ]
  },
  {
   "cell_type": "code",
   "execution_count": 260,
   "metadata": {},
   "outputs": [],
   "source": [
    "post_count = []\n",
    "for key,value in no_of_posts.items():\n",
    "    post_count.append(value) "
   ]
  },
  {
   "cell_type": "code",
   "execution_count": 261,
   "metadata": {
    "scrolled": true
   },
   "outputs": [
    {
     "data": {
      "image/png": "[encoded data removed]",
      "text/plain": [
       "<Figure size 432x288 with 1 Axes>"
      ]
     },
     "metadata": {
      "needs_background": "light"
     },
     "output_type": "display_data"
    }
   ],
   "source": [
    "plt.bar(account,post_count,color=\"rbycg\")\n",
    "plt.xticks(rotation=45,size=12)\n",
    "plt.yticks(size=12)\n",
    "plt.xlabel(\"Account\",size = 15)\n",
    "plt.ylabel(\"Posts\",size = 15)\n",
    "plt.grid()\n",
    "plt.title('No. of Posts made by top5 accounts in last 3 days')\n",
    "plt.show()"
   ]
  },
  {
   "cell_type": "code",
   "execution_count": 262,
   "metadata": {},
   "outputs": [],
   "source": [
    "post_count_per_follower = []\n",
    "for key,value in no_of_posts.items():\n",
    "    post_count_per_follower.append(value/fllow_count_int[key])"
   ]
  },
  {
   "cell_type": "code",
   "execution_count": 263,
   "metadata": {},
   "outputs": [
    {
     "data": {
      "image/png": "[encoded data removed]",
      "text/plain": [
       "<Figure size 432x288 with 1 Axes>"
      ]
     },
     "metadata": {
      "needs_background": "light"
     },
     "output_type": "display_data"
    }
   ],
   "source": [
    "plt.bar(account,post_count_per_follower,color=\"rbycg\")\n",
    "plt.xticks(rotation=45,size=12)\n",
    "plt.yticks(size=12)\n",
    "plt.xlabel(\"Account\",size = 15)\n",
    "plt.ylabel(\"Posts Per Follower\",size = 15)\n",
    "plt.grid()\n",
    "plt.title('No. of Posts per followers in last 3 days')\n",
    "plt.show()"
   ]
  },
  {
   "cell_type": "markdown",
   "metadata": {},
   "source": [
    "# Scraping the Content of last 10 posts of the top5 accounts"
   ]
  },
  {
   "cell_type": "code",
   "execution_count": 264,
   "metadata": {},
   "outputs": [],
   "source": [
    "base_url = 'https://www.instagram.com/'\n",
    "all_links = []\n",
    "for i in account:\n",
    "    all_links.append(base_url + i)    "
   ]
  },
  {
   "cell_type": "code",
   "execution_count": 265,
   "metadata": {
    "scrolled": true
   },
   "outputs": [
    {
     "name": "stdout",
     "output_type": "stream",
     "text": [
      "foodys Pineapple and pork... what an unexpectedly brilliant combo 🍍🌳 @menwithth\n",
      "------------------------------------\n",
      "Loaded teriyaki chicken rice bowl! 🍛🔥 Perfect lunch 👌 @foodyfetish\n",
      "------------------------------------\n",
      "Matzoh icebox cake! The decadent dessert you need to get you through Passover 💪😋 Tag someone who needs to see this! 👇 @delish\n",
      "------------------------------------\n",
      "Foodys fam! Trying to keep you drooling all year and remove the bots! 🤤 #real421\n",
      "------------------------------------\n",
      "Fried chicken sandwiches will forever keep me drooling 🤤😫🔥 Who else is f*cking hungry right now? @devourpower\n",
      "------------------------------------\n",
      "Ultimate snack alert: Hot link breakfast sandwich wrap with chives and cheesy eggs! 🍳🌭🔥 @thejoshelkin\n",
      "------------------------------------\n",
      "Raspberry white chocolate blondes! These look gorgeous 😍👌 @fitwaffle\n",
      "------------------------------------\n",
      "IT’S RAINING DONUTS! 🍩☂ All I’ve ever wanted in life is to be showered in donuts 😅 @danilovx 🎶: @maroon5 #beautifulmistake #music\n",
      "------------------------------------\n",
      "French toast waffle breakfast sandwich! This has me droolin’ 🤤 @grubspot 🎶: @maroon5 #beautifulmistake #music\n",
      "------------------------------------\n",
      "Omg this Lobster Mac n Cheese 🦞🧀🤤 @nonstopeats\n",
      "------------------------------------\n",
      "yourfoodlab Moong Dal Ke Dahi Vade by Chef @sanjyotkeer\n",
      "\n",
      "What’s up Guys!\n",
      "I have shared a version of dahi vada before with udat and yellow moong dal which turns out to be amazing. This is one is done with the moong dal with skin on & is tastes amazing! Do try the recipe and let me know how did it turn out! Cheers!\n",
      ".\n",
      ".\n",
      ".\n",
      ".\n",
      "#recipe #foodiesofinstagram #foodporn #indiancuisine #streetfood #dahivada #foodlover #foodstylist #foodpics #yummyfood #sanjyotkeer\n",
      "------------------------------------\n",
      "What’s up Guys!\n",
      "New video is up on the YouTube & Facebook channel!\n",
      "I have shared a version of dahi vada before with udat and yellow moong dal which turns out to be amazing. This is one is done with the moong dal with skin on & is tastes amazing! Do try the recipe and let me know how did it turn out! Cheers!\n",
      ".\n",
      ".\n",
      ".\n",
      ".\n",
      "#recipe #foodiesofinstagram #foodporn #indiancuisine #streetfood #dahivada #foodlover #foodstylist #foodpics #yummyfood #sanjyotkeer\n",
      "------------------------------------\n",
      "Chocolate Caramel Cold Coffee by Chef @sanjyotkeer\n",
      "Beat the heat with this delicious cold coffee recipe I prepped using the incredibly delicious Epigamia Chocolate Caramel Ghee Spread. A chocolate orange version is also available and these spreads are super tasty, preservative-free & a source of Omega 3. Do try the products and this recipe!\n",
      "Recipe:\n",
      "1. Ice as required- I use a little extra for that thick frappe consistency\n",
      "2. Instant coffee as required- I used 1 heaped table spoon\n",
      "3. 2 table spoons of Epigamia Chocolate Caramel Ghee Spread\n",
      "4. 2 scoops of vanilla ice cream\n",
      "5. 100 ml milk\n",
      "6. I haven’t used sugar, you can add some extra sweetness if you prefer.\n",
      "Enjoy your chilled chocolate caramel cold coffee! Cheers!\n",
      "\n",
      "#DigSwirlSpread #EpigamiaGheeSpread @epigamia.official @deepikapadukone\n",
      "------------------------------------\n",
      "Thandai Recipe - 4 ways by Chef @sanjyotkeer\n",
      "\n",
      "What’s up guys! Holi hai & thandai is one of the best parts of the Holi celebrations! I have prepped a homemade thandai syrup from scratch for you guys and then I have prepped thandai in 4 delicious flavours, Classic, Paan, KitKat & Mango. All flavours are delicious and you can beat the heat and celebrate Holi with these recipes.\n",
      "Let me know which flavor is your favorite one in the comments. Happy Holi to all of you!! Have a safe and amazing Holi! ❤️\n",
      ".\n",
      ".\n",
      ".\n",
      "#thandai #thandairecipe #holifestival #holi #holicelebration #chocolate #mango #mangoseason #summerseason#sanjyotkeer #yourfoodlab #foodporn\n",
      "------------------------------------\n",
      "What’s up guys! New video is up on the YouTube & Facebook channel! Holi hai & thandai is one of the best parts of the Holi celebrations! I have prepped a homemade thandai syrup from scratch for you guys and then I have prepped thandai in 4 delicious flavours, Classic, Paan, KitKat & Mango. All flavours are delicious and you can beat the heat and celebrate Holi with these recipes.\n",
      "Let me know which flavor is your favorite one in the comments. Happy Holi to all of you!! Have a safe and amazing Holi! ❤️\n",
      ".\n",
      ".\n",
      ".\n",
      "#thandai #thandairecipe #holifestival #holi #holicelebration #chocolate #mango #mangoseason #summerseason#sanjyotkeer #yourfoodlab #foodporn\n",
      "------------------------------------\n",
      "Mushroom Ghee Roast by Chef @sanjyotkeer\n",
      "\n",
      "Mushroom Ghee roast is an amazing recipe and I absolutely love it. This is one is for the vegetarians, I had got a lot of recipe requests for this one.\n",
      "You can replace the mushrooms with paneer, veggies or even meat if you are a non vegetarian. Some other versions are available in the channel as well so you can have a look. Do try the recipe and let me know! Cheers!\n",
      ".\n",
      ".\n",
      ".\n",
      ".\n",
      "#recipeoftheday #recipevideo #gheeroast #foodphotography #foodporn #foodstagram #streetfood #foodlover #foodpics #streetfoodlover #indiancuisine\n",
      "------------------------------------\n",
      "What’s up guys! New video is up on the YouTube & Facebook channel! Mushroom Ghee roast is an amazing recipe and I absolutely love it. This is one is for the vegetarians, I had got a lot of recipe requests for this one.\n",
      "You can replace the mushrooms with paneer, veggies or even meat if you are a non vegetarian. Some other versions are available in the channel as well so you can have a look. Do try the recipe and let me know! Cheers!\n",
      ".\n",
      ".\n",
      ".\n",
      ".\n",
      "#recipeoftheday #recipevideo #gheeroast #foodphotography #foodporn #foodstagram #streetfood #foodlover #foodpics #streetfoodlover #indiancuisine\n",
      "------------------------------------\n",
      "Goan Egg Curry by Chef @sanjyotkeer\n",
      "\n",
      "Usually majorly Goan curry is prepped with seafood so I just thought of making an egg curry in the same style and believe me it tastes amazing. If you’re a vegetarian, try preparing this with vegetables of corn, just cut thick chunks of corn on the cob and add it to the curry. It tastes amazing. Do try the recipe and let me know! Cheers!\n",
      ".\n",
      ".\n",
      ".\n",
      "#recipeoftheday #recipevideo #foodphotography #foodstagram #foodstylist #foodiesofinstagram #egg #eggcurry #eggs #egglover #goanrecipes #goanfood #sanjyotkeer #yourfoodlab\n",
      "------------------------------------\n",
      "Veg Rajma Burger by Chef @sanjyotkeer\n",
      "\n",
      "This burger recipe will change your veg burger experience. This is one of my favorites, I get asked a lot that how do we make junk healthier and I love to prep up recipes like these. One of the main elements of a burger is the patty and usually in a veg burger we usually turn towards potatoes, this recipe has a high protein rajma patty which not only is healthy but is super delicious. I have prepped up some delicious mango salsa with it along with a garlic dip and some charred onions. This burger will surely blow your mind once you try it! Cheers!\n",
      ".\n",
      ".\n",
      ".\n",
      "#recipe #burger #burgerlove #burgertime #burgerlover #vegburger #vegrecipesofindia #vegetarian #rajma #burgers #sanjyotkeer #yourfoodlab\n",
      "------------------------------------\n",
      "What’s up guys! New video is up on the YouTube & Facebook channel! Usually majorly Goan curry is prepped with seafood so I just thought of making an egg curry in the same style and believe me it tastes amazing. If you’re a vegetarian, try preparing this with vegetables of corn, just cut thick chunks of corn on the cob and add it to the curry. It tastes amazing. Do try the recipe and let me know! Cheers!\n",
      ".\n",
      ".\n",
      ".\n",
      "#recipeoftheday #recipevideo #foodphotography #foodstagram #foodstylist #foodiesofinstagram #egg #eggcurry #eggs #egglover #goanrecipes #goanfood #sanjyotkeer #yourfoodlab\n",
      "------------------------------------\n",
      "food Fusilli with pork shoulder ragu from @osteriamorini 🔥🍝\n",
      "\n",
      "📸: @briancantstopeating\n",
      "\n",
      "#food #nycfood #nycfoodie #osteriamorini #manhattan #eatlocal #yummy #pasta #eat\n",
      "------------------------------------\n",
      "Double Fried Wings from @salmagundinyc 😍 They planned to open the week the pandemic hit and had to delay and now they’re finally open! Go check them out!\n",
      "\n",
      "📸: @gothamburgersocialclub\n",
      "\n",
      "#food #nycfood #nycfoodie #chickenwings #chicken #friedchicken #yum #eat #supportlocal #saverestaurants\n",
      "------------------------------------\n"
     ]
    },
    {
     "name": "stdout",
     "output_type": "stream",
     "text": [
      "When you want it all 😏 @auzaatar\n",
      "\n",
      "📸: @creezyeats\n",
      "\n",
      "#food #nycfood #nycfoodie #auzaatar #mediterraneanfood #mezze #yum #eat #zaatar\n",
      "------------------------------------\n",
      "Extra cheesy Mac and cheese @thesmithrestaurant 😍🧀\n",
      "\n",
      "📸 @fork.and.spoon\n",
      "\n",
      "#food #nycfood #nycfoodie #yummy #foodie #macandcheese #cheese #pasta #thesmith\n",
      "------------------------------------\n",
      "Our fav @ceremoniabakeshop is now taking pre-orders for their incredible HOT CROSS BUNS! they will be available for easter weekend fri-sun 4/2-4/5. reserve yours by calling or coming into the bakery by thursday 4/1. *pre-orders are by the half dozen for $22. DM @ceremoniabakeshop for more information!\n",
      "\n",
      "#hotcrossbuns #easter #ceremonia #bakeshop #nyc #nycfood #nycfoodie #supportlocal #eatlocal\n",
      "------------------------------------\n",
      "The mozzarella sticks from @roeblingnyc 🧀😍\n",
      "\n",
      "#mozzarella #mozzarellasticks #rsc #roebling #nyc #nycfood #nycfoodie #yummy #cheese\n",
      "------------------------------------\n",
      "Sunday Spread @sundayinbrooklyn\n",
      "\n",
      "#sunday #spread #brunch #sundayinbrooklyn #brooklyn #nycfood #nycfoodie #food #yummy\n",
      "------------------------------------\n",
      "Wishing everyone a very Happy Passover\n",
      "\n",
      "📸: @missyarobbins @mpnewyork\n",
      "\n",
      "#passover #mpnewyork #mpgrocery #brisket #food #family #happypassover\n",
      "------------------------------------\n",
      "Weekends are for bagels, ideally cheesy bagels🥯\n",
      "\n",
      "📸: @nycfoodgals\n",
      "\n",
      "#nycfoodgals #baconeggcheese #bec #hhbagels #uppereastside #nycfood #nycfoodie #bagel #cheese\n",
      "------------------------------------\n",
      "@gramercytavern has officially opened it’s dining room and is ready to serve you! They also continue to offer pick up and delivery!\n",
      "\n",
      "#gramercytavern #gramercy #nyc #nycfood #nycfoodie #ushg #yummy #food #eat\n",
      "------------------------------------\n",
      "food.darzee Not all carbs are bad for your health and our bodies do require a certain amount of carbs so that they can get converted to energy that help us perform daily activities. These foods are sources of carbs that are good for you and are even\n",
      "healthy.\n",
      "\n",
      "#healthycarbs #carbfacts #goodcarbs #healthytips #healthyfactsforyou #factsforlife #tipsforyourhealth #keytoyournutrition #keytoyourhealth #wearehereforyou #coacheddarzee #fooddarzeemeals #fooddarzee\n",
      "------------------------------------\n",
      "30 days with a Keto Diet!\n",
      "\n",
      "If you are wondering if Keto actually helps you to lose weight, here are 3 people who tried it out for themselves. Watch what they have to say and how a Keto diet helped them!\n",
      "Video Credits: @buzzfeedindia\n",
      "\n",
      "#healthydiet #ketodiet #ketomeals #ketoweightloss #ketoweightlossjourney #ketolifestyle #keytoyournutrition #keytoyourhealth #wearehereforyou #fooddarzeemeals #fooddarzee\n",
      "------------------------------------\n",
      "Sign-up with Food Darzee and get keto-friendly meals delivered to you daily. They are tasty and made as\n",
      "per your preferences and nutritional needs with the help of our expert team of chefs and nutritionists, who will help you achieve all your fitness goals.\n",
      "\n",
      "#fitnesslife #fitnessgoals #ketofriendly #ketofriendlymeals #nutritionisimportant #nutriousanddelicious #tastyfood #dietmeals #dietmotivation #tastebhihealthbhi #keytoyournutrition #keytoyourhealth #wearehereforyou #coacheddarzee #fooddarzeemeals #fooddarzee\n",
      "------------------------------------\n",
      "When you want your mane to be as strong as possible, it is important to have foods that are rich in proteins like keratin and biotin. These foods make hair grow stronger and prevent easy hairfall. For more such tips, consult with our experts at Coached Darzee\n",
      "\n",
      "#foodsforstronghair #foodsforhairgrowth #richinprotein #highprotein #keratin #biotin #preventhairloss #preventhairfall #healthytips #healthyfactsforyou #factsforall #factsforlife #keytoyournutrition #keytoyourhealth #wearehereforyou #fooddarzee #coacheddarzee\n",
      "------------------------------------\n",
      "The greatest gift you can give yourself and your loved ones is good health through proper nutrition. We believe in providing a healthy and tasty diet that will not only promotes positivity but will also keep the diseases at bay. Join our meal plan and get customized dishes sent to your doorstep fresh every day. Sign-up with Food Darzee!\n",
      "\n",
      "#greatestgift #goodhealth #healthymemes #funnymemes #memefact #propernutrition #healthymeals #healthymealplans #tastydiet #healthbhitastebhi #keytoyournutrition #keytoyourhealth #wearehereforyou #fooddarzeemeals #fooddarzee\n",
      "------------------------------------\n",
      "When it comes to defining all-American lunches, it's hard not to conjure up an image of a sandwich. There's just something about a classic sandwich that can appease every appetite.Whether you're stuffing your sandwich with meats, cheeses, vegetables, fruits, spreads, eggs, or just about anything else, it's going to be delicious so long as the flavor combos are working. Try our Cheese and Mushroom Sandwich by subscribing to fooddarzee.com\n",
      "\n",
      "#healthysandwich #cheeseandmushroom #cheesesandwich #mushroomsandwich #healthymeals #mouthwateringsandwiches #nutritionisimportant #keytoyournutrition #keytoyourhealth #wearehereforyou #fooddarzee\n",
      "------------------------------------\n",
      "If you think that pimples only happen to teenagers, then think again. Most adults too suffer from sudden bursts of spots and acne on their face and other parts of the body, due to unhealthy diet. For a clear, glowing and a pimple-free face, its time to adopt these foods into your daily meals! Get coached from our experts only from Coached Darzee.\n",
      "\n",
      "#pimplefree #acnefree #acnefreeskin #foodsforacneprevention #healthydiet #foodsforglowingskin #foodsforskin #heathyfacts #healthytips #keytoyournutrition #keytoyourhealth #wearehereforyou #coacheddarzee #fooddarzee\n",
      "------------------------------------\n",
      "Chunky pieces of paneer marinated with veggies in spicy tomato sauce and wrapped in a fluffy base makes for a perfect Paneer Tikka wrap. It’s deliciously mouth watering and high on protein making it a healthy meal altogether!\n",
      "\n",
      "#healthypaneer #healthyveggies #paneerlovers #paneertikka #paneertikkawrap #highprotein #keytoyournutrition #keytoyourhealth #wearehereforyou #FoodDarzeeReels #fooddarzee\n",
      "------------------------------------\n",
      "While our teams take all the necessary precautions to prepare healthy and tasty food, the environment around it is also very important. Keeping in mind that the times we are in, all our kitchens, utensils etc. are washed and sanitized twice a day. Temperature checks are taken for all employees and masks and gloves are still mandatory. While we continue to take all safety measures, we hope that these times pass us soon and safe!\n",
      "\n",
      "#safetyprecautions #sanitized #wecareforyou #safetyfirst #safetymeasures #healthyfoodindia #healthymealplan #healthiswealth #keytoyournutrition #keytoyourhealth #wearehereforyou #fooddarzee\n",
      "------------------------------------\n",
      "Why compromise on the festivities and traditions when you can always have healthy alternatives. Celebrate Holi without worrying about your health goals with these tasty and healthy treats!\n",
      "\n",
      "#healthyholi #holifood #foodfacts #healthyalternatives #takecareofyourself #takecareofyourhealth #foodtips #healthytips #keytoyournutrition #keytoyourhealth #wearehereforyou #fooddarzee\n",
      "------------------------------------\n",
      "sailusfood Lunch scene this afternoon - an all out Andhra vegetarian bhojanam! .\n",
      "Hot steamed rice, pappu charu (tamarind based lentil vegetable stew), cauliflower pickle, chikkudikaya tomato kura (broad beans tomato curry), kalchina vankaya pachadi (roasted brinjal chutney) and buttermilk (not in pic)\n",
      ".\n",
      ".\n",
      ".\n",
      ".\n",
      ".\n",
      "The recipes for pappu charu aka pappu pulusu, chikkudikaya kura and kalchina vankaya pachadi are on the blog. Am yet to blog cauliflower pickle recipe - www.sailusfood.com\n",
      ".\n",
      ".\n",
      ".\n",
      ".\n",
      ".\n",
      ".\n",
      ".\n",
      "#sailusfood #indianfood #simplefood #thali #andhrafood #telugufood #andhracuisine #healthyfood #healthyliving #lunch #lunchideas #homecooking #southindianfood #andhra #flavorsofindia #authenticfood #ammacooking #traditional #indiankitchen #walkwithindia #ilovetoeat #eattherainbow #comfortfood #soulfood #goodfoodindia #indiafood_lovers #foodtalkindia\n",
      "------------------------------------\n",
      "Ghee Podi Idli for breakfast. The left over idlis took a new avatar with a generous sprinkle of coarsely pound idli podi and tossed in a tempering of mustard seeds, urad dal and curry leaves. .\n",
      ".\n",
      ".\n",
      ".\n",
      ".\n",
      "\n",
      "#sailusfood #breakfast #idli #podiidli #veganfoodshare #idlilove #idlipodi #breakfastlover #breakfastofchamps #foodielife #foodtalkindia #ndtv_food #southindianfood #walkwithindia #southindianbreakfast #healthybreakfast #foodblogfeed #whatiate #onmytable #breakfastclub #healthyish #yummyinmytummy #indianfood\n",
      "------------------------------------\n"
     ]
    },
    {
     "name": "stdout",
     "output_type": "stream",
     "text": [
      "Relished desi ghee smeared roti with aloo tamatar sabji (no onion and no garlic) and dahi that's spiked with roasted cumin powder for breakfast.\n",
      ".\n",
      ".\n",
      "For aloo tamatar sabji, peel a large potato and chop into 1/2\" thin pieces. Chop a large tomato into small pieces. Heat 1 1/2 tbsps of oil in a pressure cooker, add 1/2 tsp cumin and let it crackle. Add 2 slit green chilies and the chopped potatoes and cook on low flame for 5 mins. Add turmeric powder, grated ginger (1/2 tsp), 1/2 tsp dhania powder, 1 tsp red chili powder and salt. Mix and cook for a min. Add chopped tomatoes and cook for 4-5 mins. Add a generous amount of chopped coriander, 1 cup water and pressure cook up to 2 whistles. Once the pressure eases, open the lid and simmer it for a few minutes if required. Add 1/4 tsp garam masala and fresh coriander and mix. .\n",
      ".\n",
      ".\n",
      ".\n",
      "#sailusfood #indianfood #northindianfood #lbreakfast #comfortfood #desikhana #aloosabji #breakfastofchamps #breakfastoftheday #ilovecooking #soulfood #foodtalkindia #goodfoodindia #ndtv_food #delhifoodie #dilsefoodie #delhifoodies #simplefood #happinessishomemade #thefeedfeed #huffposttaste #yummyinmytummy #kitchenstories #vegetarianfoodshare #fbci_official\n",
      "#delhidiaries #comfortfood #truecooks\n",
      "------------------------------------\n",
      "A heart warming, delicious breakfast #onmyplate - hot idlis with tomato kurma. One of the best side dishes to go with idli. I make quite a few variations of this kurma. Here's how I made the tomato kurma that's high on flavour.\n",
      ".\n",
      ".\n",
      "Heat 1/2 tbsp of oil in a pan. Add 2 sliced medium tomatoes, a green chili, 2 garlic cloves and 1/2\" ginger and sauté for 5 mins. Cool and grind with 1/2 tbsp roasted gram dal, 2 tbsps grated coconut, 1/4 tsp poppy seeds and 1/4 tsp fennel seeds. Heat a tbsp of oil in a vessel. Add 1/2 tsp mustard seeds and allow to splutter. Add a sliced onion and few curry leaves and sauté for 6-7 mins. Add 1 tsp red chili powder, 1/2 tsp coriander powder and 1/4 tsp garam masala powder. Mix. Add the ground tomato paste and 1 1/2 cups of water and salt to taste. Bring to a rolling boil, reduce flame and simmer for 10-12 mins. .\n",
      ".\n",
      ".\n",
      "#sailusfood #idli #indianfood #tomatokurma #idlilove #eattherainbow #veganfoodshare #glutenfreeindia #breakfastlover #breakfastofchamps #foodtalkindia #ndtv_food #southindianfood #walkwithindia #southindianbreakfast #healthybreakfast #foodblogfeed #whatiate #onmytable #healthy #breakfastclub #healthyish #yummyinmytummy #indianfood #comfortfood #soulfood #traditionalfood #aurhenticfood #glutenfreevegan\n",
      "------------------------------------\n",
      "Heavenly breakfast this morning - ghee roast golden dosa with hot sambar and coconut chutney. And of course, filter kaapi! .\n",
      ".\n",
      ".\n",
      ".\n",
      ".\n",
      ".\n",
      "#sailusfood #indianfood #dosa #dosai #tiffinsofindia #southindianbreakfast #chutney #yahoofood #tiffin #dosalove #breakfastoftheday #walkwithindia #onmyplate #soulfood #comfortfood #breakfastlover #breakfastofchamps #authenticfood #yummyinmytummy #comfortfood #soulfood #eattherainbow #veganfoodshare #glutenfreeindia #foodtalkindia #thefeedfeed #huffposttaste #homechef #foodiesofindia #bestbreakfastever\n",
      "------------------------------------\n",
      "Made matar paneer (home made paneer) and served it with roti that I made using left over bature dough. A perfect winter breakfast! .\n",
      "I buy a lot of fresh matar or green peas and tend to add them by the fistful to dishes that don't call for the use of them. Anyone as crazy as me for matar? 😊\n",
      ".\n",
      "The link to matar paneer recipe is in my IG profile or google 'sailu matar paneer'\n",
      ".\n",
      ".\n",
      ".\n",
      ".\n",
      "#sailusfood #indianfood #punjabifood #matarpaneer #roti #breakfast #matar #greenpeas #walkwithindia #comfortfood #foodtalkindia #goodfoodindia #ndtv_food #delhifoodie #dilsefoodie #delhifoodies #northindianfood #happinessishomemade #thefeedfeed #huffposttaste #yummyinmytummy #kitchenstories #soulfood #vegetarianfoodshare #comfortfood #truecooks #ontheplate_project #northindianfood #breakfastoftheday\n",
      "------------------------------------\n",
      "#latergram comforting Andhra bhojanam #onmyplate yesterday\n",
      ".\n",
      "🔸Menthukura pappu (methi turdal)\n",
      "🔸Tomato perugu pachadi\n",
      "🔸Chilakadadumpa kura (sweet potato curry)\n",
      "🔸Charu (tamarind soup)\n",
      "🔸Annam (steamed rice) .\n",
      ".\n",
      ".\n",
      "All recipes on the blog www.sailusfood.com\n",
      ".\n",
      ".\n",
      ".\n",
      "#sailusfood #indianfood #simplefood #thali #andhrafood #telugufood #andhracuisine #healthyfood #healthyliving #lunch #lunchideas #homecooking #southindianfood #andhra #flavorsofindia #authenticfood #ammacooking #traditional #indiankitchen #walkwithindia #ilovetoeat #eattherainbow #comfortfood #soulfood #goodfoodindia #indiafood_lovers #foodtalkindia\n",
      "------------------------------------\n",
      "Sunday breakfast scenes - my all time favourite - Chole Bhature ❤️ A match made in heaven! .\n",
      "What did you eat for breakfast? 😊\n",
      ".\n",
      ".\n",
      "If you want the recipe for Punbaji chole and bhature, you will find them in my blog. OR you can google 'sailu chole recipe'. The recipe link for batura is in my Instagram profile\n",
      ".\n",
      ".\n",
      ".\n",
      ".\n",
      ".\n",
      ".\n",
      ".\n",
      "\n",
      "#sailusfood #indianfood #batura #cholebhature #walkwithindia #northindianfood #foodtalkindia #goodfoodindia #punjabifood #ndtv_food #tasteofindia #sodelhi #happinessishomemade #thefeedfeed #huffposttaste #foodiesofindia #indianfoodbloggers #breakfastspecial #breakfastoftheday #kitchenstories #whatsforbreakfast #vegetarianfoodshare #fbci_official\n",
      "#delhidiaries #comfortfood #truecooks #yummyinmytummy #ontheplate_project #nomnom24x7 #northindianfood @thefoodguruji\n",
      "@mumbaifoodies @theindianroute @buzzfeedfood @dillifoodies @foodreview.in @desi.foodbie @delhisehoon @bhukkhadbybirth\n",
      "------------------------------------\n",
      "One of my favourite breakfast today - hot off the stove lacy, soft appams with Kerala style vegetable stew. .\n",
      ".\n",
      "If you are interested in the recipes of Appam and Kerala style vegetable stew, visit my blog www.sailusfood.com or google 'sailu recipe name'\n",
      ".\n",
      ".\n",
      ".\n",
      ".\n",
      ".\n",
      ".\n",
      "#sailusfood #indianfood #southindianfood #appam #vegetablestew #keralafood #veganfoodshare #glutenfreeindia #breakfastlover #breakfastofchamps #foodielife #foodtalkindia #ndtv_food #walkwithindia #southindianbreakfast #healthybreakfast #foodblogfeed #whatiate #onmytable #healthy #breakfastclub #yummyinmytummy #comfortfood #soulfood #glutenfreevegan #thefeedfeed #comfortfood #thefoodfeed #lovemyfood\n",
      "------------------------------------\n",
      "I have updated the blog with a new recipe, Paal Poli or milk poori, that I made for Diwali. A classic South Indian dessert where deep fried pooris (made with flour and semolina dough) are dunked in a rich cardamom flavored, reduced sweetened milk. Simply irresistible dessert! .\n",
      ".\n",
      "Those who want the recipe, you will find the link to the recipe in my IG profile\n",
      ".\n",
      ".\n",
      ".\n",
      ".\n",
      ".\n",
      "#paalpoli #milkpoli #milkpuri #dessert #recipeoftheday #sailusfood #indianfood #southindiansweet #foodblog #instafoodie #sodelicious #foodstagram #ontheblog #foodgawker #f52grams #buzzfeedfood #diwali #krishnashtami #bhogi #foodblogger #feedfeed #indiandessert #thefoodfeed #yummyinmytummy #beautifulcuisines #indiansweets #indiancooking #walkwithindia #traditionalsweets #indianfestivalrecipes\n",
      "------------------------------------\n"
     ]
    }
   ],
   "source": [
    "caption_account = {}\n",
    "one_giant_text = \"\"\n",
    "for i in account:\n",
    "    caption_account[i] = []\n",
    "for i in range(len(all_links)):\n",
    "    count = 0\n",
    "    driver.get(all_links[i])\n",
    "    time.sleep(2)\n",
    "    first_img = driver.find_element_by_class_name('_9AhH0')\n",
    "    first_img.click()\n",
    "    print(account[i],end=\" \")\n",
    "    while count < 10:\n",
    "        time.sleep(2)\n",
    "        caption = driver.find_element_by_xpath('//div[@class = \"C4VMK\"]/span')\n",
    "        caption_text = caption.text\n",
    "        one_giant_text = one_giant_text + \" \" + caption_text\n",
    "        #print(count,end = ' ')\n",
    "        print(caption_text)\n",
    "        print(\"------------------------------------\")\n",
    "        caption_account[account[i]].append(caption_text)\n",
    "        count = count + 1\n",
    "        next_img = driver.find_element_by_xpath('//a[contains(@class,\"coreSpriteRightPaginationArrow\")]')\n",
    "        next_img.click()        "
   ]
  },
  {
   "cell_type": "markdown",
   "metadata": {},
   "source": [
    "# Finding Frequency of Hashtags\n"
   ]
  },
  {
   "cell_type": "code",
   "execution_count": 266,
   "metadata": {
    "scrolled": true
   },
   "outputs": [
    {
     "data": {
      "text/plain": [
       "{'#comfortfood': 12,\n",
       " '#indianfood': 11,\n",
       " '#keytoyournutrition': 10,\n",
       " '#keytoyourhealth': 10,\n",
       " '#wearehereforyou': 10,\n",
       " '#fooddarzee': 10,\n",
       " '#sailusfood': 10,\n",
       " '#nycfood': 9,\n",
       " '#nycfoodie': 9,\n",
       " '#walkwithindia': 9,\n",
       " '#foodtalkindia': 9,\n",
       " '#soulfood': 8,\n",
       " '#yummyinmytummy': 8,\n",
       " '#food': 7,\n",
       " '#foodporn': 6,\n",
       " '#ndtv_food': 6,\n",
       " '#sanjyotkeer': 5,\n",
       " '#yourfoodlab': 5,\n",
       " '#recipeoftheday': 5,\n",
       " '#foodstagram': 5,\n",
       " '#yummy': 5,\n",
       " '#southindianfood': 5,\n",
       " '#goodfoodindia': 5,\n",
       " '#breakfastofchamps': 5,\n",
       " '#northindianfood': 5,\n",
       " '#thefeedfeed': 5,\n",
       " '#foodiesofinstagram': 4,\n",
       " '#indiancuisine': 4,\n",
       " '#streetfood': 4,\n",
       " '#foodlover': 4,\n",
       " '#foodstylist': 4,\n",
       " '#foodpics': 4,\n",
       " '#recipevideo': 4,\n",
       " '#foodphotography': 4,\n",
       " '#eat': 4,\n",
       " '#healthytips': 4,\n",
       " '#coacheddarzee': 4,\n",
       " '#fooddarzeemeals': 4,\n",
       " '#eattherainbow': 4,\n",
       " '#veganfoodshare': 4,\n",
       " '#breakfastlover': 4,\n",
       " '#southindianbreakfast': 4,\n",
       " '#breakfastoftheday': 4,\n",
       " '#huffposttaste': 4,\n",
       " '#recipe': 3,\n",
       " '#cheese': 3,\n",
       " '#nyc': 3,\n",
       " '#simplefood': 3,\n",
       " '#authenticfood': 3,\n",
       " '#healthybreakfast': 3,\n",
       " '#foodblogfeed': 3,\n",
       " '#whatiate': 3,\n",
       " '#onmytable': 3,\n",
       " '#breakfastclub': 3,\n",
       " '#happinessishomemade': 3,\n",
       " '#kitchenstories': 3,\n",
       " '#vegetarianfoodshare': 3,\n",
       " '#truecooks': 3,\n",
       " '#onmyplate': 3,\n",
       " '#glutenfreeindia': 3,\n",
       " '#beautifulmistake': 2,\n",
       " '#music': 2,\n",
       " '#dahivada': 2,\n",
       " '#yummyfood': 2,\n",
       " '#thandai': 2,\n",
       " '#thandairecipe': 2,\n",
       " '#holifestival': 2,\n",
       " '#holi': 2,\n",
       " '#holicelebration': 2,\n",
       " '#chocolate': 2,\n",
       " '#mango': 2,\n",
       " '#mangoseason': 2,\n",
       " '#summerseason#sanjyotkeer': 2,\n",
       " '#gheeroast': 2,\n",
       " '#streetfoodlover': 2,\n",
       " '#egg': 2,\n",
       " '#eggcurry': 2,\n",
       " '#eggs': 2,\n",
       " '#egglover': 2,\n",
       " '#goanrecipes': 2,\n",
       " '#goanfood': 2,\n",
       " '#eatlocal': 2,\n",
       " '#pasta': 2,\n",
       " '#yum': 2,\n",
       " '#supportlocal': 2,\n",
       " '#healthyfactsforyou': 2,\n",
       " '#factsforlife': 2,\n",
       " '#healthydiet': 2,\n",
       " '#nutritionisimportant': 2,\n",
       " '#highprotein': 2,\n",
       " '#healthymeals': 2,\n",
       " '#thali': 2,\n",
       " '#andhrafood': 2,\n",
       " '#telugufood': 2,\n",
       " '#andhracuisine': 2,\n",
       " '#healthyfood': 2,\n",
       " '#healthyliving': 2,\n",
       " '#lunch': 2,\n",
       " '#lunchideas': 2,\n",
       " '#homecooking': 2,\n",
       " '#andhra': 2,\n",
       " '#flavorsofindia': 2,\n",
       " '#ammacooking': 2,\n",
       " '#traditional': 2,\n",
       " '#indiankitchen': 2,\n",
       " '#ilovetoeat': 2,\n",
       " '#indiafood_lovers': 2,\n",
       " '#breakfast': 2,\n",
       " '#idli': 2,\n",
       " '#idlilove': 2,\n",
       " '#foodielife': 2,\n",
       " '#healthyish': 2,\n",
       " '#delhifoodie': 2,\n",
       " '#dilsefoodie': 2,\n",
       " '#delhifoodies': 2,\n",
       " '#fbci_official': 2,\n",
       " '#delhidiaries': 2,\n",
       " '#healthy': 2,\n",
       " '#glutenfreevegan': 2,\n",
       " '#foodiesofindia': 2,\n",
       " '#punjabifood': 2,\n",
       " '#ontheplate_project': 2,\n",
       " '#thefoodfeed': 2,\n",
       " '#real421': 1,\n",
       " '#DigSwirlSpread': 1,\n",
       " '#EpigamiaGheeSpread': 1,\n",
       " '#burger': 1,\n",
       " '#burgerlove': 1,\n",
       " '#burgertime': 1,\n",
       " '#burgerlover': 1,\n",
       " '#vegburger': 1,\n",
       " '#vegrecipesofindia': 1,\n",
       " '#vegetarian': 1,\n",
       " '#rajma': 1,\n",
       " '#burgers': 1,\n",
       " '#osteriamorini': 1,\n",
       " '#manhattan': 1,\n",
       " '#chickenwings': 1,\n",
       " '#chicken': 1,\n",
       " '#friedchicken': 1,\n",
       " '#saverestaurants': 1,\n",
       " '#auzaatar': 1,\n",
       " '#mediterraneanfood': 1,\n",
       " '#mezze': 1,\n",
       " '#zaatar': 1,\n",
       " '#foodie': 1,\n",
       " '#macandcheese': 1,\n",
       " '#thesmith': 1,\n",
       " '#hotcrossbuns': 1,\n",
       " '#easter': 1,\n",
       " '#ceremonia': 1,\n",
       " '#bakeshop': 1,\n",
       " '#mozzarella': 1,\n",
       " '#mozzarellasticks': 1,\n",
       " '#rsc': 1,\n",
       " '#roebling': 1,\n",
       " '#sunday': 1,\n",
       " '#spread': 1,\n",
       " '#brunch': 1,\n",
       " '#sundayinbrooklyn': 1,\n",
       " '#brooklyn': 1,\n",
       " '#passover': 1,\n",
       " '#mpnewyork': 1,\n",
       " '#mpgrocery': 1,\n",
       " '#brisket': 1,\n",
       " '#family': 1,\n",
       " '#happypassover': 1,\n",
       " '#nycfoodgals': 1,\n",
       " '#baconeggcheese': 1,\n",
       " '#bec': 1,\n",
       " '#hhbagels': 1,\n",
       " '#uppereastside': 1,\n",
       " '#bagel': 1,\n",
       " '#gramercytavern': 1,\n",
       " '#gramercy': 1,\n",
       " '#ushg': 1,\n",
       " '#healthycarbs': 1,\n",
       " '#carbfacts': 1,\n",
       " '#goodcarbs': 1,\n",
       " '#tipsforyourhealth': 1,\n",
       " '#ketodiet': 1,\n",
       " '#ketomeals': 1,\n",
       " '#ketoweightloss': 1,\n",
       " '#ketoweightlossjourney': 1,\n",
       " '#ketolifestyle': 1,\n",
       " '#fitnesslife': 1,\n",
       " '#fitnessgoals': 1,\n",
       " '#ketofriendly': 1,\n",
       " '#ketofriendlymeals': 1,\n",
       " '#nutriousanddelicious': 1,\n",
       " '#tastyfood': 1,\n",
       " '#dietmeals': 1,\n",
       " '#dietmotivation': 1,\n",
       " '#tastebhihealthbhi': 1,\n",
       " '#foodsforstronghair': 1,\n",
       " '#foodsforhairgrowth': 1,\n",
       " '#richinprotein': 1,\n",
       " '#keratin': 1,\n",
       " '#biotin': 1,\n",
       " '#preventhairloss': 1,\n",
       " '#preventhairfall': 1,\n",
       " '#factsforall': 1,\n",
       " '#greatestgift': 1,\n",
       " '#goodhealth': 1,\n",
       " '#healthymemes': 1,\n",
       " '#funnymemes': 1,\n",
       " '#memefact': 1,\n",
       " '#propernutrition': 1,\n",
       " '#healthymealplans': 1,\n",
       " '#tastydiet': 1,\n",
       " '#healthbhitastebhi': 1,\n",
       " '#healthysandwich': 1,\n",
       " '#cheeseandmushroom': 1,\n",
       " '#cheesesandwich': 1,\n",
       " '#mushroomsandwich': 1,\n",
       " '#mouthwateringsandwiches': 1,\n",
       " '#pimplefree': 1,\n",
       " '#acnefree': 1,\n",
       " '#acnefreeskin': 1,\n",
       " '#foodsforacneprevention': 1,\n",
       " '#foodsforglowingskin': 1,\n",
       " '#foodsforskin': 1,\n",
       " '#heathyfacts': 1,\n",
       " '#healthypaneer': 1,\n",
       " '#healthyveggies': 1,\n",
       " '#paneerlovers': 1,\n",
       " '#paneertikka': 1,\n",
       " '#paneertikkawrap': 1,\n",
       " '#FoodDarzeeReels': 1,\n",
       " '#safetyprecautions': 1,\n",
       " '#sanitized': 1,\n",
       " '#wecareforyou': 1,\n",
       " '#safetyfirst': 1,\n",
       " '#safetymeasures': 1,\n",
       " '#healthyfoodindia': 1,\n",
       " '#healthymealplan': 1,\n",
       " '#healthiswealth': 1,\n",
       " '#healthyholi': 1,\n",
       " '#holifood': 1,\n",
       " '#foodfacts': 1,\n",
       " '#healthyalternatives': 1,\n",
       " '#takecareofyourself': 1,\n",
       " '#takecareofyourhealth': 1,\n",
       " '#foodtips': 1,\n",
       " '#podiidli': 1,\n",
       " '#idlipodi': 1,\n",
       " '#lbreakfast': 1,\n",
       " '#desikhana': 1,\n",
       " '#aloosabji': 1,\n",
       " '#ilovecooking': 1,\n",
       " '#tomatokurma': 1,\n",
       " '#traditionalfood': 1,\n",
       " '#aurhenticfood': 1,\n",
       " '#dosa': 1,\n",
       " '#dosai': 1,\n",
       " '#tiffinsofindia': 1,\n",
       " '#chutney': 1,\n",
       " '#yahoofood': 1,\n",
       " '#tiffin': 1,\n",
       " '#dosalove': 1,\n",
       " '#homechef': 1,\n",
       " '#bestbreakfastever': 1,\n",
       " '#matarpaneer': 1,\n",
       " '#roti': 1,\n",
       " '#matar': 1,\n",
       " '#greenpeas': 1,\n",
       " '#latergram': 1,\n",
       " '#batura': 1,\n",
       " '#cholebhature': 1,\n",
       " '#tasteofindia': 1,\n",
       " '#sodelhi': 1,\n",
       " '#indianfoodbloggers': 1,\n",
       " '#breakfastspecial': 1,\n",
       " '#whatsforbreakfast': 1,\n",
       " '#nomnom24x7': 1,\n",
       " '#appam': 1,\n",
       " '#vegetablestew': 1,\n",
       " '#keralafood': 1,\n",
       " '#lovemyfood': 1,\n",
       " '#paalpoli': 1,\n",
       " '#milkpoli': 1,\n",
       " '#milkpuri': 1,\n",
       " '#dessert': 1,\n",
       " '#southindiansweet': 1,\n",
       " '#foodblog': 1,\n",
       " '#instafoodie': 1,\n",
       " '#sodelicious': 1,\n",
       " '#ontheblog': 1,\n",
       " '#foodgawker': 1,\n",
       " '#f52grams': 1,\n",
       " '#buzzfeedfood': 1,\n",
       " '#diwali': 1,\n",
       " '#krishnashtami': 1,\n",
       " '#bhogi': 1,\n",
       " '#foodblogger': 1,\n",
       " '#feedfeed': 1,\n",
       " '#indiandessert': 1,\n",
       " '#beautifulcuisines': 1,\n",
       " '#indiansweets': 1,\n",
       " '#indiancooking': 1,\n",
       " '#traditionalsweets': 1,\n",
       " '#indianfestivalrecipes': 1}"
      ]
     },
     "execution_count": 266,
     "metadata": {},
     "output_type": "execute_result"
    }
   ],
   "source": [
    "from collections import Counter\n",
    "import re\n",
    "word_frequency = re.split('\\s|\\n|:',one_giant_text)\n",
    "for i in range(len(a)):\n",
    "    word_frequency[i] = word_frequency[i].strip('.')\n",
    "    word_frequency[i] = word_frequency[i].strip('!')\n",
    "    word_frequency[i] = word_frequency[i].strip('-')\n",
    "    word_frequency[i] = word_frequency[i].strip('?')\n",
    "    word_frequency[i] = word_frequency[i].strip('(')\n",
    "    word_frequency[i] = word_frequency[i].strip(')')\n",
    "word_frequency = Counter(word_frequency)\n",
    "word_frequency = dict(word_frequency)\n",
    "word_frequency.pop('')\n",
    "word_frequency = dict(sorted(word_frequency.items(), key=operator.itemgetter(1),reverse=True))\n",
    "hashtag_frequency = {}\n",
    "for key,value in word_frequency.items():\n",
    "    if key[0] == \"#\":\n",
    "        hashtag_frequency[key] = value\n",
    "    else:\n",
    "        continue\n",
    "hashtag_frequency        "
   ]
  },
  {
   "cell_type": "markdown",
   "metadata": {},
   "source": [
    "# Frequencies of different words and converting it to a .csv file"
   ]
  },
  {
   "cell_type": "code",
   "execution_count": 278,
   "metadata": {},
   "outputs": [
    {
     "data": {
      "text/html": [
       "<div>\n",
       "<style scoped>\n",
       "    .dataframe tbody tr th:only-of-type {\n",
       "        vertical-align: middle;\n",
       "    }\n",
       "\n",
       "    .dataframe tbody tr th {\n",
       "        vertical-align: top;\n",
       "    }\n",
       "\n",
       "    .dataframe thead th {\n",
       "        text-align: right;\n",
       "    }\n",
       "</style>\n",
       "<table border=\"1\" class=\"dataframe\">\n",
       "  <thead>\n",
       "    <tr style=\"text-align: right;\">\n",
       "      <th></th>\n",
       "      <th>Word</th>\n",
       "      <th>Frequency</th>\n",
       "    </tr>\n",
       "  </thead>\n",
       "  <tbody>\n",
       "    <tr>\n",
       "      <th>0</th>\n",
       "      <td>and</td>\n",
       "      <td>94</td>\n",
       "    </tr>\n",
       "    <tr>\n",
       "      <th>1</th>\n",
       "      <td>.</td>\n",
       "      <td>73</td>\n",
       "    </tr>\n",
       "    <tr>\n",
       "      <th>2</th>\n",
       "      <td>the</td>\n",
       "      <td>67</td>\n",
       "    </tr>\n",
       "    <tr>\n",
       "      <th>3</th>\n",
       "      <td>a</td>\n",
       "      <td>53</td>\n",
       "    </tr>\n",
       "    <tr>\n",
       "      <th>4</th>\n",
       "      <td>of</td>\n",
       "      <td>44</td>\n",
       "    </tr>\n",
       "    <tr>\n",
       "      <th>...</th>\n",
       "      <td>...</td>\n",
       "      <td>...</td>\n",
       "    </tr>\n",
       "    <tr>\n",
       "      <th>1287</th>\n",
       "      <td>#beautifulcuisines</td>\n",
       "      <td>1</td>\n",
       "    </tr>\n",
       "    <tr>\n",
       "      <th>1288</th>\n",
       "      <td>#indiansweets</td>\n",
       "      <td>1</td>\n",
       "    </tr>\n",
       "    <tr>\n",
       "      <th>1289</th>\n",
       "      <td>#indiancooking</td>\n",
       "      <td>1</td>\n",
       "    </tr>\n",
       "    <tr>\n",
       "      <th>1290</th>\n",
       "      <td>#traditionalsweets</td>\n",
       "      <td>1</td>\n",
       "    </tr>\n",
       "    <tr>\n",
       "      <th>1291</th>\n",
       "      <td>#indianfestivalrecipes</td>\n",
       "      <td>1</td>\n",
       "    </tr>\n",
       "  </tbody>\n",
       "</table>\n",
       "<p>1292 rows × 2 columns</p>\n",
       "</div>"
      ],
      "text/plain": [
       "                        Word  Frequency\n",
       "0                        and         94\n",
       "1                          .         73\n",
       "2                        the         67\n",
       "3                          a         53\n",
       "4                         of         44\n",
       "...                      ...        ...\n",
       "1287      #beautifulcuisines          1\n",
       "1288           #indiansweets          1\n",
       "1289          #indiancooking          1\n",
       "1290      #traditionalsweets          1\n",
       "1291  #indianfestivalrecipes          1\n",
       "\n",
       "[1292 rows x 2 columns]"
      ]
     },
     "execution_count": 278,
     "metadata": {},
     "output_type": "execute_result"
    }
   ],
   "source": [
    "import pandas as pd\n",
    "df_word = pd.DataFrame(list(word_frequency.items()),columns=['Word','Frequency'])\n",
    "df_word"
   ]
  },
  {
   "cell_type": "code",
   "execution_count": 269,
   "metadata": {},
   "outputs": [],
   "source": [
    "df_word.to_csv(\"INSTA BOT 2(1).csv\")"
   ]
  },
  {
   "cell_type": "code",
   "execution_count": 270,
   "metadata": {
    "scrolled": true
   },
   "outputs": [
    {
     "data": {
      "text/html": [
       "<div>\n",
       "<style scoped>\n",
       "    .dataframe tbody tr th:only-of-type {\n",
       "        vertical-align: middle;\n",
       "    }\n",
       "\n",
       "    .dataframe tbody tr th {\n",
       "        vertical-align: top;\n",
       "    }\n",
       "\n",
       "    .dataframe thead th {\n",
       "        text-align: right;\n",
       "    }\n",
       "</style>\n",
       "<table border=\"1\" class=\"dataframe\">\n",
       "  <thead>\n",
       "    <tr style=\"text-align: right;\">\n",
       "      <th></th>\n",
       "      <th>Hashtag</th>\n",
       "      <th>Frequency</th>\n",
       "    </tr>\n",
       "  </thead>\n",
       "  <tbody>\n",
       "    <tr>\n",
       "      <th>0</th>\n",
       "      <td>#comfortfood</td>\n",
       "      <td>12</td>\n",
       "    </tr>\n",
       "    <tr>\n",
       "      <th>1</th>\n",
       "      <td>#indianfood</td>\n",
       "      <td>11</td>\n",
       "    </tr>\n",
       "    <tr>\n",
       "      <th>2</th>\n",
       "      <td>#keytoyournutrition</td>\n",
       "      <td>10</td>\n",
       "    </tr>\n",
       "    <tr>\n",
       "      <th>3</th>\n",
       "      <td>#keytoyourhealth</td>\n",
       "      <td>10</td>\n",
       "    </tr>\n",
       "    <tr>\n",
       "      <th>4</th>\n",
       "      <td>#wearehereforyou</td>\n",
       "      <td>10</td>\n",
       "    </tr>\n",
       "    <tr>\n",
       "      <th>...</th>\n",
       "      <td>...</td>\n",
       "      <td>...</td>\n",
       "    </tr>\n",
       "    <tr>\n",
       "      <th>297</th>\n",
       "      <td>#beautifulcuisines</td>\n",
       "      <td>1</td>\n",
       "    </tr>\n",
       "    <tr>\n",
       "      <th>298</th>\n",
       "      <td>#indiansweets</td>\n",
       "      <td>1</td>\n",
       "    </tr>\n",
       "    <tr>\n",
       "      <th>299</th>\n",
       "      <td>#indiancooking</td>\n",
       "      <td>1</td>\n",
       "    </tr>\n",
       "    <tr>\n",
       "      <th>300</th>\n",
       "      <td>#traditionalsweets</td>\n",
       "      <td>1</td>\n",
       "    </tr>\n",
       "    <tr>\n",
       "      <th>301</th>\n",
       "      <td>#indianfestivalrecipes</td>\n",
       "      <td>1</td>\n",
       "    </tr>\n",
       "  </tbody>\n",
       "</table>\n",
       "<p>302 rows × 2 columns</p>\n",
       "</div>"
      ],
      "text/plain": [
       "                    Hashtag  Frequency\n",
       "0              #comfortfood         12\n",
       "1               #indianfood         11\n",
       "2       #keytoyournutrition         10\n",
       "3          #keytoyourhealth         10\n",
       "4          #wearehereforyou         10\n",
       "..                      ...        ...\n",
       "297      #beautifulcuisines          1\n",
       "298           #indiansweets          1\n",
       "299          #indiancooking          1\n",
       "300      #traditionalsweets          1\n",
       "301  #indianfestivalrecipes          1\n",
       "\n",
       "[302 rows x 2 columns]"
      ]
     },
     "execution_count": 270,
     "metadata": {},
     "output_type": "execute_result"
    }
   ],
   "source": [
    "df_hashtag = pd.DataFrame(list(hashtag_frequency.items()),columns=['Hashtag','Frequency'])\n",
    "df_hashtag"
   ]
  },
  {
   "cell_type": "markdown",
   "metadata": {},
   "source": [
    "# Seperating top5 hashtags and plotting a piechart for it"
   ]
  },
  {
   "cell_type": "code",
   "execution_count": 271,
   "metadata": {},
   "outputs": [],
   "source": [
    "hashtag = list(df_hashtag['Hashtag'])\n",
    "frequency = list(df_hashtag['Frequency'])"
   ]
  },
  {
   "cell_type": "code",
   "execution_count": 272,
   "metadata": {},
   "outputs": [
    {
     "name": "stdout",
     "output_type": "stream",
     "text": [
      "#comfortfood occurs 12 times\n",
      "#indianfood occurs 11 times\n",
      "#keytoyournutrition occurs 10 times\n",
      "#keytoyourhealth occurs 10 times\n",
      "#wearehereforyou occurs 10 times\n"
     ]
    }
   ],
   "source": [
    "top5_hashtag = []\n",
    "top5_frequency = []\n",
    "for i in range(0,5):\n",
    "    top5_hashtag.append(hashtag[i])\n",
    "    top5_frequency.append(frequency[i]) \n",
    "for i in range(len(top5_hashtag)):\n",
    "    print(str(top5_hashtag[i])+ \" \" + \"occurs\" + \" \" + str(top5_frequency[i]) + \" \" + \"times\")"
   ]
  },
  {
   "cell_type": "code",
   "execution_count": 273,
   "metadata": {},
   "outputs": [
    {
     "data": {
      "image/png": "[encoded data removed]",
      "text/plain": [
       "<Figure size 432x288 with 1 Axes>"
      ]
     },
     "metadata": {},
     "output_type": "display_data"
    }
   ],
   "source": [
    "plt.pie(top5_frequency,labels = top5_hashtag,autopct='%.2f%%')\n",
    "plt.title('Pie Chart for top 5 hashtags')\n",
    "plt.show()"
   ]
  },
  {
   "cell_type": "markdown",
   "metadata": {},
   "source": [
    "# Finding likes on last 10 posts of the top5 accounts"
   ]
  },
  {
   "cell_type": "code",
   "execution_count": 274,
   "metadata": {},
   "outputs": [
    {
     "data": {
      "text/plain": [
       "{'foodys': 951489.0,\n",
       " 'yourfoodlab': 2086576.0,\n",
       " 'food': 7683.0,\n",
       " 'food.darzee': 47169.0,\n",
       " 'sailusfood': 30493.0}"
      ]
     },
     "execution_count": 274,
     "metadata": {},
     "output_type": "execute_result"
    }
   ],
   "source": [
    "likes_top5_accounts = {}\n",
    "for i in range(len(all_links)):\n",
    "    count = 0\n",
    "    driver.get(all_links[i])\n",
    "    time.sleep(2)\n",
    "    first_img = driver.find_element_by_class_name('_9AhH0')\n",
    "    first_img.click()\n",
    "    like_int = 0\n",
    "    while count < 10:\n",
    "        time.sleep(2)\n",
    "        try:\n",
    "            like_count = driver.find_element_by_xpath('//a[@class = \"zV_Nj\"]/span')\n",
    "            like_str = like_count.get_attribute('innerHTML')\n",
    "            like_int = float(like_str.replace(',','')) + like_int\n",
    "            count = count + 1\n",
    "        except NoSuchElementException:\n",
    "            like_count = driver.find_element_by_xpath('//div[@class = \"HbPOm _9Ytll\"]/span/span')\n",
    "            like_str = like_count.get_attribute('innerHTML')\n",
    "            like_int = float(like_str.replace(',','')) + like_int\n",
    "        next_img = driver.find_element_by_xpath('//a[contains(@class,\"coreSpriteRightPaginationArrow\")]')\n",
    "        next_img.click()\n",
    "    likes_top5_accounts[account[i]] = like_int    \n",
    "likes_top5_accounts"
   ]
  },
  {
   "cell_type": "markdown",
   "metadata": {},
   "source": [
    "# Calculating Average likes and Followers:Like Ratio for top5 accounts\n"
   ]
  },
  {
   "cell_type": "code",
   "execution_count": 275,
   "metadata": {},
   "outputs": [
    {
     "data": {
      "text/plain": [
       "{'foodys': 95148.9,\n",
       " 'yourfoodlab': 208657.6,\n",
       " 'food': 768.3,\n",
       " 'food.darzee': 4716.9,\n",
       " 'sailusfood': 3049.3}"
      ]
     },
     "execution_count": 275,
     "metadata": {},
     "output_type": "execute_result"
    }
   ],
   "source": [
    "average_likes_top5_accounts = {}\n",
    "for key,value in likes_top5_accounts.items():\n",
    "    average_likes_top5_accounts[key] = value/10\n",
    "average_likes_top5_accounts    "
   ]
  },
  {
   "cell_type": "code",
   "execution_count": 276,
   "metadata": {},
   "outputs": [
    {
     "data": {
      "text/plain": [
       "{'foodys': 9.206548893366081,\n",
       " 'yourfoodlab': 0.7773572589735528,\n",
       " 'food': 15.040739294546402,\n",
       " 'food.darzee': 2.1940257372426806,\n",
       " 'sailusfood': 2.1726625782966584}"
      ]
     },
     "execution_count": 276,
     "metadata": {},
     "output_type": "execute_result"
    }
   ],
   "source": [
    "likes_top5 = list(likes_top5_accounts.values())\n",
    "like_follower_ratio = {}\n",
    "follower_like_ratio = []\n",
    "i = 0\n",
    "for key,value in fllow_count_int.items():\n",
    "    follower_like_ratio.append(value/likes_top5[i])\n",
    "    like_follower_ratio[key] = value/likes_top5[i]\n",
    "    i = i+1 \n",
    "like_follower_ratio"
   ]
  },
  {
   "cell_type": "code",
   "execution_count": 277,
   "metadata": {},
   "outputs": [
    {
     "data": {
      "image/png": "[encoded data removed]",
      "text/plain": [
       "<Figure size 432x288 with 1 Axes>"
      ]
     },
     "metadata": {
      "needs_background": "light"
     },
     "output_type": "display_data"
    }
   ],
   "source": [
    "plt.bar(account,follower_like_ratio,color=\"rbycg\")\n",
    "plt.grid()\n",
    "plt.title(\"Bar Graph of Follower:Like Ratio\")\n",
    "plt.xlabel(\"Accounts\",size = 15)\n",
    "plt.ylabel(\"Followers:Like Ratio\",size=15)\n",
    "plt.show()"
   ]
  },
  {
   "cell_type": "code",
   "execution_count": null,
   "metadata": {},
   "outputs": [],
   "source": []
  }
 ],
 "metadata": {
  "kernelspec": {
   "display_name": "Python 3",
   "language": "python",
   "name": "python3"
  },
  "language_info": {
   "codemirror_mode": {
    "name": "ipython",
    "version": 3
   },
   "file_extension": ".py",
   "mimetype": "text/x-python",
   "name": "python",
   "nbconvert_exporter": "python",
   "pygments_lexer": "ipython3",
   "version": "3.7.6"
  }
 },
 "nbformat": 4,
 "nbformat_minor": 4
}
